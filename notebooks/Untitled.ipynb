{
 "cells": [
  {
   "cell_type": "code",
   "execution_count": 78,
   "id": "4c6f38d0-6b28-4391-ba15-dfa13e10ed9b",
   "metadata": {},
   "outputs": [],
   "source": [
    "from astropy import table\n",
    "import numpy"
   ]
  },
  {
   "cell_type": "code",
   "execution_count": 114,
   "id": "8a744a62-5a99-49e7-85b7-af64565066cc",
   "metadata": {},
   "outputs": [],
   "source": [
    "from astropy import table\n",
    "import numpyresults = []\n",
    "for ccd in range(0, 40):\n",
    "    kbmod_detections = table.Table.read(f'results_{ccd:02d}/results_.txt', format='ascii')\n",
    "    colnames = [ x.rstrip(':') for x in kbmod_detections[[ f\"col{x}\" for x in range(1,15,2) ]][0]]\n",
    "    kbmod_detections = Table(kbmod_detections[[ f\"col{x}\" for x in range(2,16,2) ]], names=colnames)\n",
    "    fakes = Table.read(f'../plantList/2844607p{ccd:02d}-2844646p{ccd:02d}.plantList', format='ascii')\n",
    "    idx = [ numpy.arange(0,len(fakes))[((fakes['x'] - kbmod_detections['x'][i])**2 + (fakes['y'] - kbmod_detections['y'][i])**2)<4] for i in range(len(kbmod_detections))]      \n",
    "    planted = [len(x) > 0 and x[0] or '' for x in idx ]\n",
    "    kbmod_detections['planted'] = table.MaskedColumn(planted, mask=planted is None)\n",
    "    kbmod_detections['index'] = [ ccd*100000 + x for x in range(len(kbmod_detections)) ] \n",
    "    results.append(kbmod_detections)\n",
    "result = table.vstack(results)\n",
    "result.write('all_results.tsv', format='ascii.fixed_width', delimiter='\\t', overwrite=True, )"
   ]
  },
  {
   "cell_type": "code",
   "execution_count": 111,
   "id": "2a1b1815-fb4e-4596-9e8b-5135f7b9ab56",
   "metadata": {},
   "outputs": [],
   "source": [
    "d = table.Table.read('all_results.tsv', format='ascii.fixed_width', delimiter='\\t')"
   ]
  },
  {
   "cell_type": "code",
   "execution_count": 113,
   "id": "824774f0-5511-4489-b307-443e5222a4d6",
   "metadata": {},
   "outputs": [
    {
     "data": {
      "text/plain": [
       "masked"
      ]
     },
     "execution_count": 113,
     "metadata": {},
     "output_type": "execute_result"
    }
   ],
   "source": [
    "d['planted'][3]"
   ]
  },
  {
   "cell_type": "code",
   "execution_count": 98,
   "id": "7b22c5bb-8b5d-4a80-86a9-df20cd4aad8e",
   "metadata": {},
   "outputs": [],
   "source": [
    "kbmod_detections.write('junk.txt', format='ascii.fixed_width', delimiter='\\t', overwrite=True)"
   ]
  },
  {
   "cell_type": "code",
   "execution_count": 115,
   "id": "3698b145-5133-4a55-9b66-f3f1315960be",
   "metadata": {},
   "outputs": [
    {
     "data": {
      "text/plain": [
       "270447"
      ]
     },
     "execution_count": 115,
     "metadata": {},
     "output_type": "execute_result"
    }
   ],
   "source": [
    "len(result)"
   ]
  },
  {
   "cell_type": "code",
   "execution_count": null,
   "id": "8b0d5051-1b8b-45c0-b0c2-8d09cb088904",
   "metadata": {},
   "outputs": [],
   "source": []
  }
 ],
 "metadata": {
  "kernelspec": {
   "display_name": "Python 3 (ipykernel)",
   "language": "python",
   "name": "python3"
  },
  "language_info": {
   "codemirror_mode": {
    "name": "ipython",
    "version": 3
   },
   "file_extension": ".py",
   "mimetype": "text/x-python",
   "name": "python",
   "nbconvert_exporter": "python",
   "pygments_lexer": "ipython3",
   "version": "3.10.13"
  }
 },
 "nbformat": 4,
 "nbformat_minor": 5
}
